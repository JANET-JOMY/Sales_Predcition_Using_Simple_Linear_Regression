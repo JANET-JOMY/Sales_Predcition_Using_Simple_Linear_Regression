{
 "cells": [
  {
   "cell_type": "markdown",
   "id": "b6614cb8",
   "metadata": {},
   "source": [
    "#  SALES PREDICTION USING SIMPLE LINEAR REGRESSION ANALYSIS"
   ]
  },
  {
   "cell_type": "markdown",
   "id": "494c0797",
   "metadata": {},
   "source": [
    "### <u> AIM</u>\n",
    "To construct a Simple linear Regression Model to predict Sales using an appropriate predictor variable.\n",
    "\n",
    "### <u> DATA SOURCE</u>\n",
    " Kaggle"
   ]
  },
  {
   "cell_type": "markdown",
   "id": "33b7e25c",
   "metadata": {},
   "source": [
    "### <u>DATA DESCRIPTION<u>\n",
    "\n",
    " An advertising dataset is considered to  analyse the relationship between 'Tv advertising' and 'sales' using a simple linear regression model. <br>\n",
    "TV Advertising: This variable represents the amount of money spent on TV advertising in dollars for promoting the product. It is the independent variable in the analysis.<br>\n",
    "Sales: This variable represents the sales figures achieved for the product. It is the dependent variable in the analysis, as it is influenced by the amount spent on TV advertising."
   ]
  },
  {
   "cell_type": "markdown",
   "id": "61be953e",
   "metadata": {},
   "source": [
    "### <u> PROBLEM STATEMENT<u>\n",
    "Build a model which predicts sales based on the money spent on different platforms for marketing."
   ]
  },
  {
   "cell_type": "markdown",
   "id": "f30a9d20",
   "metadata": {},
   "source": [
    "### <u>METHODOLOGIES<u>\n",
    "\n",
    "1. Introduction:\n",
    "The objective of this analysis is to explore the relationship between advertising spending on TV and resulting product sales. We aim to build a predictive model using simple linear regression to understand how changes in TV advertising expenditure impact sales figures.\n",
    "\n",
    "2. Understanding the Data\n",
    "Dataset Overview: The dataset consists of records detailing advertising expenditures across different marketing platforms (TV, newspaper, radio) and corresponding sales figures.<br>\n",
    "Attributes:<br>\n",
    "'TV': Amount spent on TV advertising (in dollars).<br>\n",
    "'Newspaper': Amount spent on newspaper advertising (in dollars).<br>\n",
    "'Radio': Amount spent on radio advertising (in dollars).<br>\n",
    "'Sales': Total product sales (in units or dollars).<br><br>\n",
    "Hypothesis: We hypothesize that there exists a linear relationship between TV advertising spending and sales, with higher expenditures leading to increased sales\n",
    "\n",
    "3. Simple Linear Regression\n",
    "Simple linear regression is a statistical method used to model the relationship between two variables: an independent variable (predictor) and a dependent variable (target).Here the target variable is \"Sales\" and predictor variable is \"TV\".\n",
    "Model Equation: The simple linear regression model is represented by<br>\n",
    "$$ Y =β_0+β_1 x+ε $$\n",
    "    β0 = The intercept (The value of Y when X is 0)<br>\n",
    "    β1 = The slope(The change in Y for 1 unit change in X)<br>\n",
    "    X = Independent varaible<br>\n",
    "    Y = Dependent Variable<br>\n",
    "    ε = Random Error<br>\n",
    "<br>The parameters β0 and β1 are unknown and must be estimated using sample data. Suppose that we have n pairs of data, say (x1,y1) , (x2,y2) , ... , (xn,yn). The estimated for β0 and β1, are given by :<br>\n",
    "    #### β̂ 1=(∑(𝑥𝑖−𝑥̅ )(𝑦𝑖−𝑦̅ ))/(∑(𝑥𝑖−𝑥̅ )2)=𝑆𝑥𝑦/𝑆𝑥𝑥 \n",
    "    #### β̂ 0=𝑌̅ −β̂ 1𝑋̅ \n",
    "Interval Estimation:\n",
    "The 100(1-α)% confidence interval is given by:\n",
    "    #### P[L(X) <= β <= U(X)] = 1-α \n",
    "To find the interval estimates, we have 2 cases : when variance is known and when it is not not known.<br>\n",
    "In the case when the variance is known, the confidence interval is given by\n",
    "    #### [β̂ 1−𝑧(α⁄2)√(σ2/𝑠𝑥𝑥,)β̂ 1+𝑧(α⁄2)√(σ2/𝑠𝑥𝑥,)] \n",
    "In the case when the variance is not known, the confidence interval is given by\n",
    "    ####  [β̂ 1−𝑡(α⁄2,(𝑛−2))√(σ2/𝑠𝑥𝑥,)β̂ 1+𝑡(α⁄2,(𝑛−2))√(σ2/𝑠𝑥𝑥)] \n",
    "where σ̂ 2=𝑆𝑆𝑟𝑒𝑠/(𝑛−2)<br>\n",
    "\n",
    "4. Model Building:\n",
    "Data Preparation: Preprocess the dataset by handling missing values and scaling if necessary.\n",
    "Split Data: Split the dataset into training and testing sets to train and evaluate the model, typically using a 70-30 or 80-20 split.<br>\n",
    "Model Training: Fit the simple linear regression model to the training data, estimating the intercept and slope coefficients.\n",
    "Model Interpretation: Interpret the coefficients of the model in the context of the problem, understanding how changes in TV advertising spending affect sales.<br><br>\n",
    "\n",
    "5. Model Evaluation:\n",
    "Metrics: Evaluate the performance of the regression model using metrics such as Mean Squared Error (MSE), Root Mean Squared Error (RMSE), and R-squared.<br><br>\n",
    "\n",
    "6. Prediction and Inference:\n",
    "Predictions: Utilize the trained regression model to make predictions on new or unseen data, providing insights into expected sales figures based on varying levels of TV advertising expenditure.\n",
    "Inference: Draw conclusions from the model predictions, informing marketing strategies and budget allocation decisions to optimize \n",
    " \n"
   ]
  },
  {
   "cell_type": "markdown",
   "id": "992723f7",
   "metadata": {},
   "source": [
    "sales performance.<br><br>\n",
    "7. Conclusion:\n",
    "Summarize the methodologies employed in the analysis, highlighting key steps and findings."
   ]
  },
  {
   "cell_type": "markdown",
   "id": "af11ab37",
   "metadata": {},
   "source": [
    "### <u> Reading and understanding data<u>\n"
   ]
  },
  {
   "cell_type": "code",
   "execution_count": 1,
   "id": "7e96ac01",
   "metadata": {},
   "outputs": [],
   "source": [
    "\n",
    "# Import the numpy and pandas package\n",
    "\n",
    "import numpy as np\n",
    "import pandas as pd\n",
    "\n",
    "# Data Visualisation\n",
    "import matplotlib.pyplot as plt \n",
    "import seaborn as sns"
   ]
  },
  {
   "cell_type": "code",
   "execution_count": 2,
   "id": "8dc00f5c",
   "metadata": {},
   "outputs": [
    {
     "data": {
      "text/html": [
       "<div>\n",
       "<style scoped>\n",
       "    .dataframe tbody tr th:only-of-type {\n",
       "        vertical-align: middle;\n",
       "    }\n",
       "\n",
       "    .dataframe tbody tr th {\n",
       "        vertical-align: top;\n",
       "    }\n",
       "\n",
       "    .dataframe thead th {\n",
       "        text-align: right;\n",
       "    }\n",
       "</style>\n",
       "<table border=\"1\" class=\"dataframe\">\n",
       "  <thead>\n",
       "    <tr style=\"text-align: right;\">\n",
       "      <th></th>\n",
       "      <th>TV</th>\n",
       "      <th>Radio</th>\n",
       "      <th>Newspaper</th>\n",
       "      <th>Sales</th>\n",
       "    </tr>\n",
       "  </thead>\n",
       "  <tbody>\n",
       "    <tr>\n",
       "      <th>0</th>\n",
       "      <td>230.1</td>\n",
       "      <td>37.8</td>\n",
       "      <td>69.2</td>\n",
       "      <td>22.1</td>\n",
       "    </tr>\n",
       "    <tr>\n",
       "      <th>1</th>\n",
       "      <td>44.5</td>\n",
       "      <td>39.3</td>\n",
       "      <td>45.1</td>\n",
       "      <td>10.4</td>\n",
       "    </tr>\n",
       "    <tr>\n",
       "      <th>2</th>\n",
       "      <td>17.2</td>\n",
       "      <td>45.9</td>\n",
       "      <td>69.3</td>\n",
       "      <td>12.0</td>\n",
       "    </tr>\n",
       "    <tr>\n",
       "      <th>3</th>\n",
       "      <td>151.5</td>\n",
       "      <td>41.3</td>\n",
       "      <td>58.5</td>\n",
       "      <td>16.5</td>\n",
       "    </tr>\n",
       "    <tr>\n",
       "      <th>4</th>\n",
       "      <td>180.8</td>\n",
       "      <td>10.8</td>\n",
       "      <td>58.4</td>\n",
       "      <td>17.9</td>\n",
       "    </tr>\n",
       "    <tr>\n",
       "      <th>...</th>\n",
       "      <td>...</td>\n",
       "      <td>...</td>\n",
       "      <td>...</td>\n",
       "      <td>...</td>\n",
       "    </tr>\n",
       "    <tr>\n",
       "      <th>195</th>\n",
       "      <td>38.2</td>\n",
       "      <td>3.7</td>\n",
       "      <td>13.8</td>\n",
       "      <td>7.6</td>\n",
       "    </tr>\n",
       "    <tr>\n",
       "      <th>196</th>\n",
       "      <td>94.2</td>\n",
       "      <td>4.9</td>\n",
       "      <td>8.1</td>\n",
       "      <td>14.0</td>\n",
       "    </tr>\n",
       "    <tr>\n",
       "      <th>197</th>\n",
       "      <td>177.0</td>\n",
       "      <td>9.3</td>\n",
       "      <td>6.4</td>\n",
       "      <td>14.8</td>\n",
       "    </tr>\n",
       "    <tr>\n",
       "      <th>198</th>\n",
       "      <td>283.6</td>\n",
       "      <td>42.0</td>\n",
       "      <td>66.2</td>\n",
       "      <td>25.5</td>\n",
       "    </tr>\n",
       "    <tr>\n",
       "      <th>199</th>\n",
       "      <td>232.1</td>\n",
       "      <td>8.6</td>\n",
       "      <td>8.7</td>\n",
       "      <td>18.4</td>\n",
       "    </tr>\n",
       "  </tbody>\n",
       "</table>\n",
       "<p>200 rows × 4 columns</p>\n",
       "</div>"
      ],
      "text/plain": [
       "        TV  Radio  Newspaper  Sales\n",
       "0    230.1   37.8       69.2   22.1\n",
       "1     44.5   39.3       45.1   10.4\n",
       "2     17.2   45.9       69.3   12.0\n",
       "3    151.5   41.3       58.5   16.5\n",
       "4    180.8   10.8       58.4   17.9\n",
       "..     ...    ...        ...    ...\n",
       "195   38.2    3.7       13.8    7.6\n",
       "196   94.2    4.9        8.1   14.0\n",
       "197  177.0    9.3        6.4   14.8\n",
       "198  283.6   42.0       66.2   25.5\n",
       "199  232.1    8.6        8.7   18.4\n",
       "\n",
       "[200 rows x 4 columns]"
      ]
     },
     "execution_count": 2,
     "metadata": {},
     "output_type": "execute_result"
    }
   ],
   "source": [
    "#importing data set\n",
    "df=pd.read_csv(\"adv.csv\")\n",
    "df"
   ]
  },
  {
   "cell_type": "markdown",
   "id": "5e27273a",
   "metadata": {},
   "source": [
    "### <u> Data Inspection<u>"
   ]
  },
  {
   "cell_type": "code",
   "execution_count": 3,
   "id": "a37ca371",
   "metadata": {},
   "outputs": [
    {
     "data": {
      "text/plain": [
       "(200, 4)"
      ]
     },
     "execution_count": 3,
     "metadata": {},
     "output_type": "execute_result"
    }
   ],
   "source": [
    "df.shape"
   ]
  },
  {
   "cell_type": "code",
   "execution_count": 4,
   "id": "f8a93b4a",
   "metadata": {},
   "outputs": [
    {
     "name": "stdout",
     "output_type": "stream",
     "text": [
      "<class 'pandas.core.frame.DataFrame'>\n",
      "RangeIndex: 200 entries, 0 to 199\n",
      "Data columns (total 4 columns):\n",
      " #   Column     Non-Null Count  Dtype  \n",
      "---  ------     --------------  -----  \n",
      " 0   TV         200 non-null    float64\n",
      " 1   Radio      200 non-null    float64\n",
      " 2   Newspaper  200 non-null    float64\n",
      " 3   Sales      200 non-null    float64\n",
      "dtypes: float64(4)\n",
      "memory usage: 6.4 KB\n"
     ]
    }
   ],
   "source": [
    "df.info()"
   ]
  },
  {
   "cell_type": "code",
   "execution_count": 5,
   "id": "43a16da8",
   "metadata": {},
   "outputs": [
    {
     "data": {
      "text/html": [
       "<div>\n",
       "<style scoped>\n",
       "    .dataframe tbody tr th:only-of-type {\n",
       "        vertical-align: middle;\n",
       "    }\n",
       "\n",
       "    .dataframe tbody tr th {\n",
       "        vertical-align: top;\n",
       "    }\n",
       "\n",
       "    .dataframe thead th {\n",
       "        text-align: right;\n",
       "    }\n",
       "</style>\n",
       "<table border=\"1\" class=\"dataframe\">\n",
       "  <thead>\n",
       "    <tr style=\"text-align: right;\">\n",
       "      <th></th>\n",
       "      <th>TV</th>\n",
       "      <th>Radio</th>\n",
       "      <th>Newspaper</th>\n",
       "      <th>Sales</th>\n",
       "    </tr>\n",
       "  </thead>\n",
       "  <tbody>\n",
       "    <tr>\n",
       "      <th>count</th>\n",
       "      <td>200.000000</td>\n",
       "      <td>200.000000</td>\n",
       "      <td>200.000000</td>\n",
       "      <td>200.000000</td>\n",
       "    </tr>\n",
       "    <tr>\n",
       "      <th>mean</th>\n",
       "      <td>147.042500</td>\n",
       "      <td>23.264000</td>\n",
       "      <td>30.554000</td>\n",
       "      <td>15.130500</td>\n",
       "    </tr>\n",
       "    <tr>\n",
       "      <th>std</th>\n",
       "      <td>85.854236</td>\n",
       "      <td>14.846809</td>\n",
       "      <td>21.778621</td>\n",
       "      <td>5.283892</td>\n",
       "    </tr>\n",
       "    <tr>\n",
       "      <th>min</th>\n",
       "      <td>0.700000</td>\n",
       "      <td>0.000000</td>\n",
       "      <td>0.300000</td>\n",
       "      <td>1.600000</td>\n",
       "    </tr>\n",
       "    <tr>\n",
       "      <th>25%</th>\n",
       "      <td>74.375000</td>\n",
       "      <td>9.975000</td>\n",
       "      <td>12.750000</td>\n",
       "      <td>11.000000</td>\n",
       "    </tr>\n",
       "    <tr>\n",
       "      <th>50%</th>\n",
       "      <td>149.750000</td>\n",
       "      <td>22.900000</td>\n",
       "      <td>25.750000</td>\n",
       "      <td>16.000000</td>\n",
       "    </tr>\n",
       "    <tr>\n",
       "      <th>75%</th>\n",
       "      <td>218.825000</td>\n",
       "      <td>36.525000</td>\n",
       "      <td>45.100000</td>\n",
       "      <td>19.050000</td>\n",
       "    </tr>\n",
       "    <tr>\n",
       "      <th>max</th>\n",
       "      <td>296.400000</td>\n",
       "      <td>49.600000</td>\n",
       "      <td>114.000000</td>\n",
       "      <td>27.000000</td>\n",
       "    </tr>\n",
       "  </tbody>\n",
       "</table>\n",
       "</div>"
      ],
      "text/plain": [
       "               TV       Radio   Newspaper       Sales\n",
       "count  200.000000  200.000000  200.000000  200.000000\n",
       "mean   147.042500   23.264000   30.554000   15.130500\n",
       "std     85.854236   14.846809   21.778621    5.283892\n",
       "min      0.700000    0.000000    0.300000    1.600000\n",
       "25%     74.375000    9.975000   12.750000   11.000000\n",
       "50%    149.750000   22.900000   25.750000   16.000000\n",
       "75%    218.825000   36.525000   45.100000   19.050000\n",
       "max    296.400000   49.600000  114.000000   27.000000"
      ]
     },
     "execution_count": 5,
     "metadata": {},
     "output_type": "execute_result"
    }
   ],
   "source": [
    "df.describe()"
   ]
  },
  {
   "cell_type": "code",
   "execution_count": 6,
   "id": "8140e464",
   "metadata": {},
   "outputs": [
    {
     "data": {
      "text/html": [
       "<div>\n",
       "<style scoped>\n",
       "    .dataframe tbody tr th:only-of-type {\n",
       "        vertical-align: middle;\n",
       "    }\n",
       "\n",
       "    .dataframe tbody tr th {\n",
       "        vertical-align: top;\n",
       "    }\n",
       "\n",
       "    .dataframe thead th {\n",
       "        text-align: right;\n",
       "    }\n",
       "</style>\n",
       "<table border=\"1\" class=\"dataframe\">\n",
       "  <thead>\n",
       "    <tr style=\"text-align: right;\">\n",
       "      <th></th>\n",
       "      <th>TV</th>\n",
       "      <th>Radio</th>\n",
       "      <th>Newspaper</th>\n",
       "      <th>Sales</th>\n",
       "    </tr>\n",
       "  </thead>\n",
       "  <tbody>\n",
       "    <tr>\n",
       "      <th>0</th>\n",
       "      <td>230.1</td>\n",
       "      <td>37.8</td>\n",
       "      <td>69.2</td>\n",
       "      <td>22.1</td>\n",
       "    </tr>\n",
       "    <tr>\n",
       "      <th>1</th>\n",
       "      <td>44.5</td>\n",
       "      <td>39.3</td>\n",
       "      <td>45.1</td>\n",
       "      <td>10.4</td>\n",
       "    </tr>\n",
       "    <tr>\n",
       "      <th>2</th>\n",
       "      <td>17.2</td>\n",
       "      <td>45.9</td>\n",
       "      <td>69.3</td>\n",
       "      <td>12.0</td>\n",
       "    </tr>\n",
       "    <tr>\n",
       "      <th>3</th>\n",
       "      <td>151.5</td>\n",
       "      <td>41.3</td>\n",
       "      <td>58.5</td>\n",
       "      <td>16.5</td>\n",
       "    </tr>\n",
       "    <tr>\n",
       "      <th>4</th>\n",
       "      <td>180.8</td>\n",
       "      <td>10.8</td>\n",
       "      <td>58.4</td>\n",
       "      <td>17.9</td>\n",
       "    </tr>\n",
       "    <tr>\n",
       "      <th>5</th>\n",
       "      <td>8.7</td>\n",
       "      <td>48.9</td>\n",
       "      <td>75.0</td>\n",
       "      <td>7.2</td>\n",
       "    </tr>\n",
       "    <tr>\n",
       "      <th>6</th>\n",
       "      <td>57.5</td>\n",
       "      <td>32.8</td>\n",
       "      <td>23.5</td>\n",
       "      <td>11.8</td>\n",
       "    </tr>\n",
       "    <tr>\n",
       "      <th>7</th>\n",
       "      <td>120.2</td>\n",
       "      <td>19.6</td>\n",
       "      <td>11.6</td>\n",
       "      <td>13.2</td>\n",
       "    </tr>\n",
       "    <tr>\n",
       "      <th>8</th>\n",
       "      <td>8.6</td>\n",
       "      <td>2.1</td>\n",
       "      <td>1.0</td>\n",
       "      <td>4.8</td>\n",
       "    </tr>\n",
       "    <tr>\n",
       "      <th>9</th>\n",
       "      <td>199.8</td>\n",
       "      <td>2.6</td>\n",
       "      <td>21.2</td>\n",
       "      <td>15.6</td>\n",
       "    </tr>\n",
       "    <tr>\n",
       "      <th>10</th>\n",
       "      <td>66.1</td>\n",
       "      <td>5.8</td>\n",
       "      <td>24.2</td>\n",
       "      <td>12.6</td>\n",
       "    </tr>\n",
       "    <tr>\n",
       "      <th>11</th>\n",
       "      <td>214.7</td>\n",
       "      <td>24.0</td>\n",
       "      <td>4.0</td>\n",
       "      <td>17.4</td>\n",
       "    </tr>\n",
       "    <tr>\n",
       "      <th>12</th>\n",
       "      <td>23.8</td>\n",
       "      <td>35.1</td>\n",
       "      <td>65.9</td>\n",
       "      <td>9.2</td>\n",
       "    </tr>\n",
       "    <tr>\n",
       "      <th>13</th>\n",
       "      <td>97.5</td>\n",
       "      <td>7.6</td>\n",
       "      <td>7.2</td>\n",
       "      <td>13.7</td>\n",
       "    </tr>\n",
       "    <tr>\n",
       "      <th>14</th>\n",
       "      <td>204.1</td>\n",
       "      <td>32.9</td>\n",
       "      <td>46.0</td>\n",
       "      <td>19.0</td>\n",
       "    </tr>\n",
       "    <tr>\n",
       "      <th>15</th>\n",
       "      <td>195.4</td>\n",
       "      <td>47.7</td>\n",
       "      <td>52.9</td>\n",
       "      <td>22.4</td>\n",
       "    </tr>\n",
       "    <tr>\n",
       "      <th>16</th>\n",
       "      <td>67.8</td>\n",
       "      <td>36.6</td>\n",
       "      <td>114.0</td>\n",
       "      <td>12.5</td>\n",
       "    </tr>\n",
       "    <tr>\n",
       "      <th>17</th>\n",
       "      <td>281.4</td>\n",
       "      <td>39.6</td>\n",
       "      <td>55.8</td>\n",
       "      <td>24.4</td>\n",
       "    </tr>\n",
       "    <tr>\n",
       "      <th>18</th>\n",
       "      <td>69.2</td>\n",
       "      <td>20.5</td>\n",
       "      <td>18.3</td>\n",
       "      <td>11.3</td>\n",
       "    </tr>\n",
       "    <tr>\n",
       "      <th>19</th>\n",
       "      <td>147.3</td>\n",
       "      <td>23.9</td>\n",
       "      <td>19.1</td>\n",
       "      <td>14.6</td>\n",
       "    </tr>\n",
       "  </tbody>\n",
       "</table>\n",
       "</div>"
      ],
      "text/plain": [
       "       TV  Radio  Newspaper  Sales\n",
       "0   230.1   37.8       69.2   22.1\n",
       "1    44.5   39.3       45.1   10.4\n",
       "2    17.2   45.9       69.3   12.0\n",
       "3   151.5   41.3       58.5   16.5\n",
       "4   180.8   10.8       58.4   17.9\n",
       "5     8.7   48.9       75.0    7.2\n",
       "6    57.5   32.8       23.5   11.8\n",
       "7   120.2   19.6       11.6   13.2\n",
       "8     8.6    2.1        1.0    4.8\n",
       "9   199.8    2.6       21.2   15.6\n",
       "10   66.1    5.8       24.2   12.6\n",
       "11  214.7   24.0        4.0   17.4\n",
       "12   23.8   35.1       65.9    9.2\n",
       "13   97.5    7.6        7.2   13.7\n",
       "14  204.1   32.9       46.0   19.0\n",
       "15  195.4   47.7       52.9   22.4\n",
       "16   67.8   36.6      114.0   12.5\n",
       "17  281.4   39.6       55.8   24.4\n",
       "18   69.2   20.5       18.3   11.3\n",
       "19  147.3   23.9       19.1   14.6"
      ]
     },
     "execution_count": 6,
     "metadata": {},
     "output_type": "execute_result"
    }
   ],
   "source": [
    "df.head(20)"
   ]
  },
  {
   "cell_type": "markdown",
   "id": "4380774b",
   "metadata": {},
   "source": [
    "### <u> Data Cleaning<u>"
   ]
  },
  {
   "cell_type": "code",
   "execution_count": 7,
   "id": "7b482942",
   "metadata": {},
   "outputs": [
    {
     "data": {
      "text/plain": [
       "TV           0.0\n",
       "Radio        0.0\n",
       "Newspaper    0.0\n",
       "Sales        0.0\n",
       "dtype: float64"
      ]
     },
     "execution_count": 7,
     "metadata": {},
     "output_type": "execute_result"
    }
   ],
   "source": [
    "#checking null values\n",
    "df.isnull().sum()*100/df.shape[0]"
   ]
  },
  {
   "cell_type": "markdown",
   "id": "3fda02f9",
   "metadata": {},
   "source": [
    "#### There are no null values in the data set.Hence its clean"
   ]
  },
  {
   "cell_type": "code",
   "execution_count": 8,
   "id": "9df60d36",
   "metadata": {},
   "outputs": [
    {
     "data": {
      "image/png": "[encoded data removed]",
      "text/plain": [
       "<Figure size 500x600 with 3 Axes>"
      ]
     },
     "metadata": {},
     "output_type": "display_data"
    }
   ],
   "source": [
    "#Outlier Analysis\n",
    "fig, axs = plt.subplots(3, figsize = (5,6))\n",
    "plt1 = sns.boxplot(df['TV'], ax = axs[0])\n",
    "axs[0].set_title('TV')\n",
    "plt2 = sns.boxplot(df['Newspaper'], ax = axs[1])\n",
    "axs[1].set_title('Newspaper')\n",
    "plt3 = sns.boxplot(df['Radio'], ax = axs[2])\n",
    "axs[2].set_title('Radio')\n",
    "plt.tight_layout()"
   ]
  },
  {
   "cell_type": "markdown",
   "id": "ad39f2c7",
   "metadata": {},
   "source": [
    "#### There are no considerable Outliers present in the data.\n"
   ]
  },
  {
   "cell_type": "markdown",
   "id": "35ec9e0a",
   "metadata": {},
   "source": [
    "## <u>EXPLORATORY DATA ANALYSIS<u>"
   ]
  },
  {
   "cell_type": "markdown",
   "id": "27ea1f6f",
   "metadata": {},
   "source": [
    "\n",
    "#### TARGET VARIABLE-SALES"
   ]
  },
  {
   "cell_type": "code",
   "execution_count": 9,
   "id": "9a3963ff",
   "metadata": {},
   "outputs": [
    {
     "data": {
      "image/png": "[encoded data removed]",
      "text/plain": [
       "<Figure size 600x400 with 1 Axes>"
      ]
     },
     "metadata": {},
     "output_type": "display_data"
    }
   ],
   "source": [
    "plt.figure(figsize=(6, 4))\n",
    "sns.boxplot(x='Sales', data=df)\n",
    "plt.title('Distribution of Sales')\n",
    "plt.show()"
   ]
  },
  {
   "cell_type": "code",
   "execution_count": 10,
   "id": "b1ffc90c",
   "metadata": {},
   "outputs": [
    {
     "name": "stderr",
     "output_type": "stream",
     "text": [
      "C:\\Users\\HP\\anaconda3\\Lib\\site-packages\\seaborn\\axisgrid.py:118: UserWarning: The figure layout has changed to tight\n",
      "  self._figure.tight_layout(*args, **kwargs)\n"
     ]
    },
    {
     "data": {
      "image/png": "[encoded data removed]",
      "text/plain": [
       "<Figure size 1200x400 with 3 Axes>"
      ]
     },
     "metadata": {},
     "output_type": "display_data"
    },
    {
     "data": {
      "text/plain": [
       "<Figure size 1000x1000 with 0 Axes>"
      ]
     },
     "execution_count": 10,
     "metadata": {},
     "output_type": "execute_result"
    },
    {
     "data": {
      "text/plain": [
       "<Figure size 1000x1000 with 0 Axes>"
      ]
     },
     "metadata": {},
     "output_type": "display_data"
    }
   ],
   "source": [
    "# Relation of sales with other variables using scatter plot\n",
    "sns.pairplot(df, x_vars=['TV', 'Newspaper', 'Radio'], y_vars='Sales', height=4, aspect=1, kind='scatter')\n",
    "plt.show()\n",
    "plt.figure(figsize=(10,10))"
   ]
  },
  {
   "cell_type": "markdown",
   "id": "83d876b0",
   "metadata": {},
   "source": [
    "#### since Sales and Tv is having a positive correlation, we will proceed with simple linear regression"
   ]
  },
  {
   "cell_type": "code",
   "execution_count": 11,
   "id": "dd56feb3",
   "metadata": {},
   "outputs": [
    {
     "data": {
      "image/png": "[encoded data removed]",
      "text/plain": [
       "<Figure size 640x480 with 2 Axes>"
      ]
     },
     "metadata": {},
     "output_type": "display_data"
    }
   ],
   "source": [
    "#  correlation between different variables.\n",
    "sns.heatmap(df.corr(), cmap=(\"PiYG\"), annot = True)\n",
    "plt.show()"
   ]
  },
  {
   "cell_type": "markdown",
   "id": "1228a4af",
   "metadata": {},
   "source": [
    " As is visible from the pairplot and the heatmap, the variable TV seems to be most correlated with Sales. So  simple linear regression will be performed using TV as our feature variable."
   ]
  },
  {
   "cell_type": "markdown",
   "id": "09920256",
   "metadata": {},
   "source": [
    "## <u>MODEL BUILDING<u>"
   ]
  },
  {
   "cell_type": "markdown",
   "id": "11ba5738",
   "metadata": {},
   "source": [
    "### Performing Simple Linear Regression\n",
    "### Equation of linear regression\n",
    "\n",
    "### 𝑌=β0+βX+ε\n",
    " \n",
    "### β0 = The intercept (The value of Y when X is 0)\n",
    "### β1 = The slope(The change in Y for 1 unit change in X)\n",
    "### X = Independent varaible\n",
    "### Y = Dependent Variable\n",
    "### ε = Random Error\n",
    "\n",
    "### In our case:\n",
    "### Sales=β0+β(TV)+ε\n"
   ]
  },
  {
   "cell_type": "markdown",
   "id": "325594e5",
   "metadata": {},
   "source": [
    "### Generic Steps in model building using statsmodels\n",
    " We first assign the feature variable, TV, in this case, to the variable X and the response variable, Sales, to the variable y."
   ]
  },
  {
   "cell_type": "code",
   "execution_count": 12,
   "id": "0fa58f3f",
   "metadata": {},
   "outputs": [],
   "source": [
    "X = df['TV']\n",
    "y = df['Sales']"
   ]
  },
  {
   "cell_type": "markdown",
   "id": "0dfa9fc2",
   "metadata": {},
   "source": [
    "### <u>Train-Test Split<u>\n",
    "Spliting our variable into training and testing sets.This is done by importing\n",
    "practice to keep 70% of the data in your train dataset and the rest 30% in your test dataset"
   ]
  },
  {
   "cell_type": "code",
   "execution_count": 13,
   "id": "76e3110c",
   "metadata": {},
   "outputs": [],
   "source": [
    "from sklearn.model_selection import train_test_split\n",
    "X_train, X_test, y_train, y_test = train_test_split(X, y, train_size = 0.7, test_size = 0.3, random_state = 100)"
   ]
  },
  {
   "cell_type": "code",
   "execution_count": 14,
   "id": "f253ce55",
   "metadata": {},
   "outputs": [
    {
     "data": {
      "text/plain": [
       "74     213.4\n",
       "3      151.5\n",
       "185    205.0\n",
       "26     142.9\n",
       "90     134.3\n",
       "Name: TV, dtype: float64"
      ]
     },
     "execution_count": 14,
     "metadata": {},
     "output_type": "execute_result"
    }
   ],
   "source": [
    "X_train.head()"
   ]
  },
  {
   "cell_type": "code",
   "execution_count": 15,
   "id": "84287a51",
   "metadata": {},
   "outputs": [
    {
     "data": {
      "text/plain": [
       "74     17.0\n",
       "3      16.5\n",
       "185    22.6\n",
       "26     15.0\n",
       "90     14.0\n",
       "Name: Sales, dtype: float64"
      ]
     },
     "execution_count": 15,
     "metadata": {},
     "output_type": "execute_result"
    }
   ],
   "source": [
    "y_train.head()"
   ]
  },
  {
   "cell_type": "markdown",
   "id": "292c67d1",
   "metadata": {},
   "source": [
    "### <u>Building a Linear Model<u>\n",
    " we need to import the statsmodel.api library using which we will perform the linear regression.\n",
    "\n"
   ]
  },
  {
   "cell_type": "code",
   "execution_count": 16,
   "id": "07d70834",
   "metadata": {},
   "outputs": [],
   "source": [
    "import statsmodels.api as sm\n"
   ]
  },
  {
   "cell_type": "markdown",
   "id": "a544ade4",
   "metadata": {},
   "source": [
    "By default, the statsmodels library fits a line on the dataset which passes through the origin. But in order to have an intercept, you need to manually use the add_constant attribute of statsmodels. And once you've added the constant to your X_train dataset, you can go ahead and fit a regression line using the OLS (Ordinary Least Squares) attribute of statsmodels as shown below"
   ]
  },
  {
   "cell_type": "markdown",
   "id": "6ed456a2",
   "metadata": {},
   "source": [
    "### <u>Fitting the regression line using 'OLS'<u>"
   ]
  },
  {
   "cell_type": "code",
   "execution_count": 17,
   "id": "b0cbe591",
   "metadata": {},
   "outputs": [],
   "source": [
    "# Adding a constant to get an intercept\n",
    "X_train_sm = sm.add_constant(X_train)\n",
    "\n",
    "# Fit the resgression line using 'OLS'\n",
    "lr = sm.OLS(y_train, X_train_sm).fit()"
   ]
  },
  {
   "cell_type": "markdown",
   "id": "c871982e",
   "metadata": {},
   "source": [
    "### <u>Finding the joint estimate( slope and intercept)<u>"
   ]
  },
  {
   "cell_type": "code",
   "execution_count": 18,
   "id": "27ac34bc",
   "metadata": {},
   "outputs": [
    {
     "data": {
      "text/plain": [
       "const    6.948683\n",
       "TV       0.054546\n",
       "dtype: float64"
      ]
     },
     "execution_count": 18,
     "metadata": {},
     "output_type": "execute_result"
    }
   ],
   "source": [
    "# Print the parameters, i.e. the intercept and the slope of the regression line fitted\n",
    "lr.params"
   ]
  },
  {
   "cell_type": "markdown",
   "id": "a46760d3",
   "metadata": {},
   "source": [
    "## Or "
   ]
  },
  {
   "cell_type": "code",
   "execution_count": 33,
   "id": "5ce55ebf",
   "metadata": {},
   "outputs": [
    {
     "ename": "NameError",
     "evalue": "name 'model' is not defined",
     "output_type": "error",
     "traceback": [
      "\u001b[1;31m---------------------------------------------------------------------------\u001b[0m",
      "\u001b[1;31mNameError\u001b[0m                                 Traceback (most recent call last)",
      "Cell \u001b[1;32mIn[33], line 2\u001b[0m\n\u001b[0;32m      1\u001b[0m \u001b[38;5;66;03m#coeffecients and intercept \u001b[39;00m\n\u001b[1;32m----> 2\u001b[0m \u001b[38;5;28mprint\u001b[39m(\u001b[38;5;124m\"\u001b[39m\u001b[38;5;124mSlope(Coeffecient, beta1:)\u001b[39m\u001b[38;5;124m\"\u001b[39m,model\u001b[38;5;241m.\u001b[39mcoef_[\u001b[38;5;241m0\u001b[39m])\n\u001b[0;32m      3\u001b[0m \u001b[38;5;28mprint\u001b[39m(\u001b[38;5;124m\"\u001b[39m\u001b[38;5;124mIntercept, beta 0:\u001b[39m\u001b[38;5;124m\"\u001b[39m,model\u001b[38;5;241m.\u001b[39mintercept_)\n",
      "\u001b[1;31mNameError\u001b[0m: name 'model' is not defined"
     ]
    }
   ],
   "source": [
    "#coeffecients and intercept \n",
    "print(\"Slope(Coeffecient, beta1:)\",model.coef_[0])\n",
    "print(\"Intercept, beta 0:\",model.intercept_)"
   ]
  },
  {
   "cell_type": "markdown",
   "id": "e15d2c88",
   "metadata": {},
   "source": [
    "### <u>Confidence Interval Estimation<u>"
   ]
  },
  {
   "cell_type": "code",
   "execution_count": 20,
   "id": "70f911a7",
   "metadata": {},
   "outputs": [
    {
     "name": "stdout",
     "output_type": "stream",
     "text": [
      "Confidence Intervals:\n",
      "              0         1\n",
      "const  6.188252  7.709114\n",
      "TV     0.050183  0.058908\n"
     ]
    }
   ],
   "source": [
    "confidence_intervals = lr.conf_int()\n",
    "print(\"Confidence Intervals:\")\n",
    "print(confidence_intervals)"
   ]
  },
  {
   "cell_type": "code",
   "execution_count": 21,
   "id": "32e23cff",
   "metadata": {},
   "outputs": [
    {
     "name": "stdout",
     "output_type": "stream",
     "text": [
      "                            OLS Regression Results                            \n",
      "==============================================================================\n",
      "Dep. Variable:                  Sales   R-squared:                       0.816\n",
      "Model:                            OLS   Adj. R-squared:                  0.814\n",
      "Method:                 Least Squares   F-statistic:                     611.2\n",
      "Date:                Thu, 25 Apr 2024   Prob (F-statistic):           1.52e-52\n",
      "Time:                        02:06:00   Log-Likelihood:                -321.12\n",
      "No. Observations:                 140   AIC:                             646.2\n",
      "Df Residuals:                     138   BIC:                             652.1\n",
      "Df Model:                           1                                         \n",
      "Covariance Type:            nonrobust                                         \n",
      "==============================================================================\n",
      "                 coef    std err          t      P>|t|      [0.025      0.975]\n",
      "------------------------------------------------------------------------------\n",
      "const          6.9487      0.385     18.068      0.000       6.188       7.709\n",
      "TV             0.0545      0.002     24.722      0.000       0.050       0.059\n",
      "==============================================================================\n",
      "Omnibus:                        0.027   Durbin-Watson:                   2.196\n",
      "Prob(Omnibus):                  0.987   Jarque-Bera (JB):                0.150\n",
      "Skew:                          -0.006   Prob(JB):                        0.928\n",
      "Kurtosis:                       2.840   Cond. No.                         328.\n",
      "==============================================================================\n",
      "\n",
      "Notes:\n",
      "[1] Standard Errors assume that the covariance matrix of the errors is correctly specified.\n"
     ]
    }
   ],
   "source": [
    "# Performing a summary operation lists out all the different parameters of the regression line fitted\n",
    "print(lr.summary())"
   ]
  },
  {
   "cell_type": "markdown",
   "id": "c11d341f",
   "metadata": {},
   "source": [
    "#### The fit is significant .\n",
    "Let's visualize how well the model fit the data.\n",
    "From the parameters that we get, our linear regression equation becomes:\n",
    "#### Sales=6.948+0.054×TV"
   ]
  },
  {
   "cell_type": "code",
   "execution_count": 34,
   "id": "e352e016",
   "metadata": {},
   "outputs": [
    {
     "data": {
      "image/png": "[encoded data removed]",
      "text/plain": [
       "<Figure size 640x480 with 1 Axes>"
      ]
     },
     "metadata": {},
     "output_type": "display_data"
    }
   ],
   "source": [
    "# plotting the data and the regression curve\n",
    "plt.scatter(X,y,color=\"red\", label=\"Actual data\")\n",
    "plt.scatter(X_test,y_pred,color='blue',label=\"Predicted data\")\n",
    "plt.title(\"Simple linear Regression\")\n",
    "plt.xlabel('X')\n",
    "plt.ylabel('y')\n",
    "plt.legend()\n",
    "plt.show()"
   ]
  },
  {
   "cell_type": "markdown",
   "id": "9fe908b6",
   "metadata": {},
   "source": [
    "### <u>MODEL EVALUATION<u>\n",
    "##### Residual analysis\n",
    "To validate assumptions of the model, and hence the reliability for inference\n",
    "\n",
    "##### Distribution of the error terms\n",
    "We need to check if the error terms are also normally distributed (which is infact, one of the major assumptions of linear regression), let us plot the histogram of the error terms and see what it looks like."
   ]
  },
  {
   "cell_type": "code",
   "execution_count": 23,
   "id": "6c01315f",
   "metadata": {},
   "outputs": [],
   "source": [
    "y_train_pred = lr.predict(X_train_sm)\n",
    "res = (y_train - y_train_pred)"
   ]
  },
  {
   "cell_type": "code",
   "execution_count": 24,
   "id": "c1a459aa",
   "metadata": {},
   "outputs": [
    {
     "name": "stderr",
     "output_type": "stream",
     "text": [
      "C:\\Users\\HP\\AppData\\Local\\Temp\\ipykernel_25496\\4270230627.py:2: UserWarning: \n",
      "\n",
      "`distplot` is a deprecated function and will be removed in seaborn v0.14.0.\n",
      "\n",
      "Please adapt your code to use either `displot` (a figure-level function with\n",
      "similar flexibility) or `histplot` (an axes-level function for histograms).\n",
      "\n",
      "For a guide to updating your code to use the new functions, please see\n",
      "https://gist.github.com/mwaskom/de44147ed2974457ad6372750bbe5751\n",
      "\n",
      "  sns.distplot(res, bins = 15)\n"
     ]
    },
    {
     "data": {
      "image/png": "[encoded data removed]",
      "text/plain": [
       "<Figure size 640x480 with 1 Axes>"
      ]
     },
     "metadata": {},
     "output_type": "display_data"
    }
   ],
   "source": [
    "fig = plt.figure()\n",
    "sns.distplot(res, bins = 15)\n",
    "fig.suptitle('Error Terms', fontsize = 15) # Plot heading \n",
    "plt.xlabel('y_train - y_train_pred', fontsize = 15)# X-label\n",
    "plt.show()"
   ]
  },
  {
   "cell_type": "markdown",
   "id": "fa1af2ba",
   "metadata": {},
   "source": [
    "#### The residuals are following the normally distributed with a mean 0. "
   ]
  },
  {
   "cell_type": "markdown",
   "id": "b9cb829b",
   "metadata": {},
   "source": [
    "### <u> Looking for patterns in the residuals<u>"
   ]
  },
  {
   "cell_type": "code",
   "execution_count": 25,
   "id": "50af6303",
   "metadata": {},
   "outputs": [
    {
     "data": {
      "image/png": "[encoded data removed]",
      "text/plain": [
       "<Figure size 640x480 with 1 Axes>"
      ]
     },
     "metadata": {},
     "output_type": "display_data"
    }
   ],
   "source": [
    "plt.scatter(X_train,res)\n",
    "plt.show()"
   ]
  },
  {
   "cell_type": "markdown",
   "id": "0c64748b",
   "metadata": {},
   "source": [
    "We are confident that the model fit isn't by chance, and has decent predictive power. The normality of residual terms allows some inference on the coefficients.\n",
    "\n",
    "Although, the variance of residuals increasing with X indicates that there is significant variation that this model is unable to explain.\n",
    "\n",
    "Here the regression line is a pretty good fit to the data."
   ]
  },
  {
   "cell_type": "markdown",
   "id": "ffb2389a",
   "metadata": {},
   "source": [
    "### <u> Predictions on the test set<u>"
   ]
  },
  {
   "cell_type": "markdown",
   "id": "739b5fcf",
   "metadata": {},
   "source": [
    "We have fitted a regression line on train dataset,now we will make predictions on the test data. For this,first we need to add a constant to the X_test data like we did for X_train and then we can simply go on and predict the y values corresponding to X_test using the predict attribute of the fitted regression line."
   ]
  },
  {
   "cell_type": "code",
   "execution_count": 26,
   "id": "00bb9fc5",
   "metadata": {},
   "outputs": [],
   "source": [
    "# Add a constant to X_test\n",
    "X_test_sm = sm.add_constant(X_test)\n",
    "\n",
    "# Predict the y values corresponding to X_test_sm\n",
    "y_pred = lr.predict(X_test_sm)"
   ]
  },
  {
   "cell_type": "code",
   "execution_count": 27,
   "id": "5d2a331e",
   "metadata": {},
   "outputs": [
    {
     "data": {
      "text/plain": [
       "126     7.374140\n",
       "104    19.941482\n",
       "99     14.323269\n",
       "92     18.823294\n",
       "111    20.132392\n",
       "dtype: float64"
      ]
     },
     "execution_count": 27,
     "metadata": {},
     "output_type": "execute_result"
    }
   ],
   "source": [
    "y_pred.head()"
   ]
  },
  {
   "cell_type": "code",
   "execution_count": 28,
   "id": "3cc14491",
   "metadata": {},
   "outputs": [],
   "source": [
    "from sklearn.metrics import mean_squared_error\n",
    "from sklearn.metrics import r2_score"
   ]
  },
  {
   "cell_type": "code",
   "execution_count": 29,
   "id": "e06d8028",
   "metadata": {},
   "outputs": [
    {
     "data": {
      "text/plain": [
       "2.019296008966232"
      ]
     },
     "execution_count": 29,
     "metadata": {},
     "output_type": "execute_result"
    }
   ],
   "source": [
    "#Returns the mean squared error; by taking  square root\n",
    "np.sqrt(mean_squared_error(y_test, y_pred))"
   ]
  },
  {
   "cell_type": "markdown",
   "id": "06116cc9",
   "metadata": {},
   "source": [
    "Inference:Model's predictions deviate from the actual sales values by approximately 2.0193 units."
   ]
  },
  {
   "cell_type": "markdown",
   "id": "2956695f",
   "metadata": {},
   "source": [
    "### <u>Checking R-Squared on the test set<u>"
   ]
  },
  {
   "cell_type": "code",
   "execution_count": 30,
   "id": "8c66ea36",
   "metadata": {},
   "outputs": [
    {
     "data": {
      "text/plain": [
       "0.792103160124566"
      ]
     },
     "execution_count": 30,
     "metadata": {},
     "output_type": "execute_result"
    }
   ],
   "source": [
    "r_squared = r2_score(y_test, y_pred)\n",
    "r_squared"
   ]
  },
  {
   "cell_type": "markdown",
   "id": "2756b21d",
   "metadata": {},
   "source": [
    "R squared score of 0.7921 indicates that approximately 79.21% of the variance in the target variable (sales) is explained by the independent variable (TV advertising spend) in your regression model. "
   ]
  },
  {
   "cell_type": "markdown",
   "id": "6d73f9b4",
   "metadata": {},
   "source": [
    "### <u>Visualizing the fit on the test set<u>"
   ]
  },
  {
   "cell_type": "code",
   "execution_count": 31,
   "id": "96b87c09",
   "metadata": {
    "scrolled": false
   },
   "outputs": [
    {
     "data": {
      "image/png": "[encoded data removed]",
      "text/plain": [
       "<Figure size 640x480 with 1 Axes>"
      ]
     },
     "metadata": {},
     "output_type": "display_data"
    }
   ],
   "source": [
    "plt.scatter(X_test, y_test)\n",
    "plt.plot(X_test, 6.948 + 0.054 * X_test, 'r')\n",
    "plt.show()"
   ]
  },
  {
   "cell_type": "markdown",
   "id": "604d1a93",
   "metadata": {},
   "source": [
    "### <u> RESULT:<u>"
   ]
  },
  {
   "cell_type": "markdown",
   "id": "38a0b7fa",
   "metadata": {},
   "source": [
    " The fitted regression line is given by:\n",
    " ### Sales=6.948+0.054×TV"
   ]
  },
  {
   "cell_type": "markdown",
   "id": "b3a35998",
   "metadata": {},
   "source": [
    "### <u>CONCLUSION<u>"
   ]
  },
  {
   "cell_type": "markdown",
   "id": "856d6f2a",
   "metadata": {},
   "source": [
    "\n",
    "The values with which we are concerned are:<br>\n",
    "   1.The coeffecients and significance(p-value)<br>\n",
    "   2.R-squared<br>\n",
    "   3.F statistic and its significance<br>\n",
    "   4.Confidence intervals of slope and intercept<br>\n",
    "   \n",
    "   \n",
    "<b>The coeffecient for TV is 0.0545, with a very low p vlaue of 0.The coeffecient is statistically significant.So the association is not purely by chance.R -Squared is 0.816,Meaning that 81.6% of the variance in Sales is explained by TV.\n",
    "This is a decent R-squared value.F statistic has a very low p value (practically low),\n",
    "Meaning that the model fit is statistically significant, and the explained variance isn't purely by chance.\n",
    "The slope and intercept is given as 0.0545  and 6.9486.The confidence interval for intercept is given by:(6.188252  7.709114)and the confidence interval for slope is given by: (0.050183  0.058908).\n",
    "\n",
    "\n"
   ]
  },
  {
   "cell_type": "code",
   "execution_count": null,
   "id": "93685ad1",
   "metadata": {},
   "outputs": [],
   "source": []
  }
 ],
 "metadata": {
  "kernelspec": {
   "display_name": "Python 3 (ipykernel)",
   "language": "python",
   "name": "python3"
  },
  "language_info": {
   "codemirror_mode": {
    "name": "ipython",
    "version": 3
   },
   "file_extension": ".py",
   "mimetype": "text/x-python",
   "name": "python",
   "nbconvert_exporter": "python",
   "pygments_lexer": "ipython3",
   "version": "3.11.5"
  }
 },
 "nbformat": 4,
 "nbformat_minor": 5
}
